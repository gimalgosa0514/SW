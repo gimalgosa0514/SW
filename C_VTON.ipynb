{
  "cells": [
    {
      "cell_type": "markdown",
      "metadata": {
        "id": "view-in-github",
        "colab_type": "text"
      },
      "source": [
        "<a href=\"https://colab.research.google.com/github/gimalgosa0514/SW/blob/main/C_VTON.ipynb\" target=\"_parent\"><img src=\"https://colab.research.google.com/assets/colab-badge.svg\" alt=\"Open In Colab\"/></a>"
      ]
    },
    {
      "cell_type": "code",
      "execution_count": 1,
      "metadata": {
        "colab": {
          "base_uri": "https://localhost:8080/"
        },
        "id": "Jng32v8eHWjb",
        "outputId": "d33e55c3-fb65-4aed-80ef-e3bbe440c093"
      },
      "outputs": [
        {
          "output_type": "stream",
          "name": "stdout",
          "text": [
            "Cloning into 'C-VTON'...\n",
            "remote: Enumerating objects: 125, done.\u001b[K\n",
            "remote: Counting objects: 100% (125/125), done.\u001b[K\n",
            "remote: Compressing objects: 100% (97/97), done.\u001b[K\n",
            "remote: Total 125 (delta 47), reused 91 (delta 23), pack-reused 0\u001b[K\n",
            "Receiving objects: 100% (125/125), 3.47 MiB | 27.58 MiB/s, done.\n",
            "Resolving deltas: 100% (47/47), done.\n"
          ]
        }
      ],
      "source": [
        "!git clone https://github.com/benquick123/C-VTON.git"
      ]
    },
    {
      "cell_type": "code",
      "execution_count": 2,
      "metadata": {
        "id": "1tevu64aKsd0"
      },
      "outputs": [],
      "source": [
        "import gdown\n",
        "import cv2\n",
        "import torch\n",
        "import torchvision\n",
        "import matplotlib\n",
        "import pandas"
      ]
    },
    {
      "cell_type": "code",
      "execution_count": 3,
      "metadata": {
        "colab": {
          "base_uri": "https://localhost:8080/"
        },
        "id": "dUOhz2eAKwcX",
        "outputId": "91e6c441-9dfd-4c4b-d0f0-02b88e0d40d6"
      },
      "outputs": [
        {
          "output_type": "stream",
          "name": "stdout",
          "text": [
            "/content/C-VTON/bpgm/data\n"
          ]
        }
      ],
      "source": [
        "%cd /content/C-VTON/bpgm/data"
      ]
    },
    {
      "cell_type": "code",
      "execution_count": 4,
      "metadata": {
        "colab": {
          "base_uri": "https://localhost:8080/"
        },
        "id": "Qflyjg6SK9wV",
        "outputId": "042d25a2-366f-4991-b3ee-c032a0074f9f"
      },
      "outputs": [
        {
          "output_type": "stream",
          "name": "stderr",
          "text": [
            "Downloading...\n",
            "From: https://drive.google.com/uc?id=11TtWWuQFiHN0I-f0QJekK1I1r-nrx2ix\n",
            "To: /content/C-VTON/bpgm/data/preprocessed-viton.zip\n",
            "100%|██████████| 290M/290M [00:03<00:00, 91.2MB/s]\n"
          ]
        }
      ],
      "source": [
        "gdown.download('https://drive.google.com/uc?id=11TtWWuQFiHN0I-f0QJekK1I1r-nrx2ix', quiet=False)\n",
        "\n",
        "\n",
        "\n",
        "!unzip -qq preprocessed-viton.zip"
      ]
    },
    {
      "cell_type": "code",
      "execution_count": 5,
      "metadata": {
        "colab": {
          "base_uri": "https://localhost:8080/"
        },
        "id": "xcYljGBILgbr",
        "outputId": "7c336066-225d-4766-843e-b6cbc6c52674"
      },
      "outputs": [
        {
          "output_type": "stream",
          "name": "stdout",
          "text": [
            "/content/C-VTON/bpgm\n"
          ]
        }
      ],
      "source": [
        "%cd /content/C-VTON/bpgm"
      ]
    },
    {
      "cell_type": "code",
      "execution_count": 6,
      "metadata": {
        "id": "tPnIkIldMms7"
      },
      "outputs": [],
      "source": [
        "!mkdir checkpoints"
      ]
    },
    {
      "cell_type": "code",
      "execution_count": 7,
      "metadata": {
        "colab": {
          "base_uri": "https://localhost:8080/"
        },
        "id": "bCWKCP5KMrV_",
        "outputId": "46dc1dab-959f-4173-ac36-029f0ebd29ba"
      },
      "outputs": [
        {
          "output_type": "stream",
          "name": "stdout",
          "text": [
            "/content/C-VTON/bpgm/checkpoints\n"
          ]
        }
      ],
      "source": [
        "%cd checkpoints\n"
      ]
    },
    {
      "cell_type": "code",
      "execution_count": 8,
      "metadata": {
        "colab": {
          "base_uri": "https://localhost:8080/"
        },
        "id": "kHMjh37GM3l9",
        "outputId": "d110f464-cfa1-47d8-fea6-58189ad43288"
      },
      "outputs": [
        {
          "output_type": "stream",
          "name": "stderr",
          "text": [
            "Downloading...\n",
            "From: https://drive.google.com/uc?id=1W8b_uXupIAgx7zf7qejYnyIiOeejvuRQ\n",
            "To: /content/C-VTON/bpgm/checkpoints/bpgm-checkpoints-viton.zip\n",
            "100%|██████████| 70.7M/70.7M [00:00<00:00, 147MB/s]\n"
          ]
        }
      ],
      "source": [
        "gdown.download('https://drive.google.com/uc?id=1W8b_uXupIAgx7zf7qejYnyIiOeejvuRQ', quiet=False)\n",
        "\n",
        "\n",
        "!unzip -qq bpgm-checkpoints-viton.zip"
      ]
    },
    {
      "cell_type": "code",
      "execution_count": 9,
      "metadata": {
        "colab": {
          "base_uri": "https://localhost:8080/"
        },
        "id": "0vBg3KvJNIen",
        "outputId": "dc59be1a-fdf5-4c41-8293-2fb291d426ef"
      },
      "outputs": [
        {
          "output_type": "stream",
          "name": "stderr",
          "text": [
            "Downloading...\n",
            "From: https://drive.google.com/uc?id=1kXMkJB5XtAcb9odwnFnGNK26bP-nFpld\n",
            "To: /content/C-VTON/bpgm/checkpoints/checkpoints-viton.zip\n",
            "100%|██████████| 156M/156M [00:01<00:00, 112MB/s]\n"
          ]
        }
      ],
      "source": [
        "gdown.download('https://drive.google.com/uc?id=1kXMkJB5XtAcb9odwnFnGNK26bP-nFpld', quiet=False)\n",
        "\n",
        "\n",
        "\n",
        "!unzip -qq checkpoints-viton.zip"
      ]
    },
    {
      "cell_type": "code",
      "execution_count": 10,
      "metadata": {
        "colab": {
          "base_uri": "https://localhost:8080/"
        },
        "id": "pVtZv2RNNppf",
        "outputId": "5f0ca6e4-d843-47c6-bb33-5540eeacce55"
      },
      "outputs": [
        {
          "output_type": "stream",
          "name": "stdout",
          "text": [
            "/content/C-VTON/scripts\n"
          ]
        }
      ],
      "source": [
        "%cd /content/C-VTON/scripts/"
      ]
    },
    {
      "cell_type": "code",
      "execution_count": 11,
      "metadata": {
        "colab": {
          "base_uri": "https://localhost:8080/"
        },
        "id": "b-sllWl6OaAb",
        "outputId": "b18accdf-53dc-4b95-8002-90abad682c6b"
      },
      "outputs": [
        {
          "output_type": "stream",
          "name": "stdout",
          "text": [
            "Looking in indexes: https://pypi.org/simple, https://us-python.pkg.dev/colab-wheels/public/simple/\n",
            "Collecting dataloaders\n",
            "  Downloading dataloaders-0.0.1-py3-none-any.whl (1.1 kB)\n",
            "Requirement already satisfied: torch>=1.10.0 in /usr/local/lib/python3.10/dist-packages (from dataloaders) (2.0.0+cu118)\n",
            "Requirement already satisfied: filelock in /usr/local/lib/python3.10/dist-packages (from torch>=1.10.0->dataloaders) (3.12.0)\n",
            "Requirement already satisfied: typing-extensions in /usr/local/lib/python3.10/dist-packages (from torch>=1.10.0->dataloaders) (4.5.0)\n",
            "Requirement already satisfied: sympy in /usr/local/lib/python3.10/dist-packages (from torch>=1.10.0->dataloaders) (1.11.1)\n",
            "Requirement already satisfied: networkx in /usr/local/lib/python3.10/dist-packages (from torch>=1.10.0->dataloaders) (3.1)\n",
            "Requirement already satisfied: jinja2 in /usr/local/lib/python3.10/dist-packages (from torch>=1.10.0->dataloaders) (3.1.2)\n",
            "Requirement already satisfied: triton==2.0.0 in /usr/local/lib/python3.10/dist-packages (from torch>=1.10.0->dataloaders) (2.0.0)\n",
            "Requirement already satisfied: cmake in /usr/local/lib/python3.10/dist-packages (from triton==2.0.0->torch>=1.10.0->dataloaders) (3.25.2)\n",
            "Requirement already satisfied: lit in /usr/local/lib/python3.10/dist-packages (from triton==2.0.0->torch>=1.10.0->dataloaders) (16.0.3)\n",
            "Requirement already satisfied: MarkupSafe>=2.0 in /usr/local/lib/python3.10/dist-packages (from jinja2->torch>=1.10.0->dataloaders) (2.1.2)\n",
            "Requirement already satisfied: mpmath>=0.19 in /usr/local/lib/python3.10/dist-packages (from sympy->torch>=1.10.0->dataloaders) (1.3.0)\n",
            "Installing collected packages: dataloaders\n",
            "Successfully installed dataloaders-0.0.1\n"
          ]
        }
      ],
      "source": [
        "!pip install dataloaders"
      ]
    },
    {
      "cell_type": "code",
      "execution_count": 12,
      "metadata": {
        "colab": {
          "base_uri": "https://localhost:8080/"
        },
        "id": "UyAo-4haO8As",
        "outputId": "961f1906-cf25-4ce6-b1ce-ee95dab0a0c8"
      },
      "outputs": [
        {
          "output_type": "stream",
          "name": "stdout",
          "text": [
            "Looking in indexes: https://pypi.org/simple, https://us-python.pkg.dev/colab-wheels/public/simple/\n",
            "Collecting lpips\n",
            "  Downloading lpips-0.1.4-py3-none-any.whl (53 kB)\n",
            "\u001b[2K     \u001b[90m━━━━━━━━━━━━━━━━━━━━━━━━━━━━━━━━━━━━━━━━\u001b[0m \u001b[32m53.8/53.8 kB\u001b[0m \u001b[31m6.1 MB/s\u001b[0m eta \u001b[36m0:00:00\u001b[0m\n",
            "\u001b[?25hRequirement already satisfied: torch>=0.4.0 in /usr/local/lib/python3.10/dist-packages (from lpips) (2.0.0+cu118)\n",
            "Requirement already satisfied: torchvision>=0.2.1 in /usr/local/lib/python3.10/dist-packages (from lpips) (0.15.1+cu118)\n",
            "Requirement already satisfied: numpy>=1.14.3 in /usr/local/lib/python3.10/dist-packages (from lpips) (1.22.4)\n",
            "Requirement already satisfied: scipy>=1.0.1 in /usr/local/lib/python3.10/dist-packages (from lpips) (1.10.1)\n",
            "Requirement already satisfied: tqdm>=4.28.1 in /usr/local/lib/python3.10/dist-packages (from lpips) (4.65.0)\n",
            "Requirement already satisfied: filelock in /usr/local/lib/python3.10/dist-packages (from torch>=0.4.0->lpips) (3.12.0)\n",
            "Requirement already satisfied: typing-extensions in /usr/local/lib/python3.10/dist-packages (from torch>=0.4.0->lpips) (4.5.0)\n",
            "Requirement already satisfied: sympy in /usr/local/lib/python3.10/dist-packages (from torch>=0.4.0->lpips) (1.11.1)\n",
            "Requirement already satisfied: networkx in /usr/local/lib/python3.10/dist-packages (from torch>=0.4.0->lpips) (3.1)\n",
            "Requirement already satisfied: jinja2 in /usr/local/lib/python3.10/dist-packages (from torch>=0.4.0->lpips) (3.1.2)\n",
            "Requirement already satisfied: triton==2.0.0 in /usr/local/lib/python3.10/dist-packages (from torch>=0.4.0->lpips) (2.0.0)\n",
            "Requirement already satisfied: cmake in /usr/local/lib/python3.10/dist-packages (from triton==2.0.0->torch>=0.4.0->lpips) (3.25.2)\n",
            "Requirement already satisfied: lit in /usr/local/lib/python3.10/dist-packages (from triton==2.0.0->torch>=0.4.0->lpips) (16.0.3)\n",
            "Requirement already satisfied: requests in /usr/local/lib/python3.10/dist-packages (from torchvision>=0.2.1->lpips) (2.27.1)\n",
            "Requirement already satisfied: pillow!=8.3.*,>=5.3.0 in /usr/local/lib/python3.10/dist-packages (from torchvision>=0.2.1->lpips) (8.4.0)\n",
            "Requirement already satisfied: MarkupSafe>=2.0 in /usr/local/lib/python3.10/dist-packages (from jinja2->torch>=0.4.0->lpips) (2.1.2)\n",
            "Requirement already satisfied: urllib3<1.27,>=1.21.1 in /usr/local/lib/python3.10/dist-packages (from requests->torchvision>=0.2.1->lpips) (1.26.15)\n",
            "Requirement already satisfied: certifi>=2017.4.17 in /usr/local/lib/python3.10/dist-packages (from requests->torchvision>=0.2.1->lpips) (2022.12.7)\n",
            "Requirement already satisfied: charset-normalizer~=2.0.0 in /usr/local/lib/python3.10/dist-packages (from requests->torchvision>=0.2.1->lpips) (2.0.12)\n",
            "Requirement already satisfied: idna<4,>=2.5 in /usr/local/lib/python3.10/dist-packages (from requests->torchvision>=0.2.1->lpips) (3.4)\n",
            "Requirement already satisfied: mpmath>=0.19 in /usr/local/lib/python3.10/dist-packages (from sympy->torch>=0.4.0->lpips) (1.3.0)\n",
            "Installing collected packages: lpips\n",
            "Successfully installed lpips-0.1.4\n"
          ]
        }
      ],
      "source": [
        "!pip install lpips"
      ]
    },
    {
      "cell_type": "code",
      "source": [
        "%cd /content/C-VTON/scripts"
      ],
      "metadata": {
        "colab": {
          "base_uri": "https://localhost:8080/"
        },
        "id": "QTaMrGXNiRaU",
        "outputId": "38677d5c-840e-4f5a-f640-5686b2f708e1"
      },
      "execution_count": 13,
      "outputs": [
        {
          "output_type": "stream",
          "name": "stdout",
          "text": [
            "/content/C-VTON/scripts\n"
          ]
        }
      ]
    },
    {
      "cell_type": "code",
      "execution_count": 24,
      "metadata": {
        "colab": {
          "base_uri": "https://localhost:8080/"
        },
        "id": "jZV5tcwkN4Zw",
        "outputId": "eac86e1e-b898-4d0c-8eee-77366a2bd512"
      },
      "outputs": [
        {
          "output_type": "stream",
          "name": "stdout",
          "text": [
            "----------------- Options ---------------\n",
            "                EMA_decay: 0.9999                        \n",
            "               batch_size: 16                            \t[default: 1]\n",
            "                  bpgm_id: 256_26_3_viton                \t[default: 256_3_5]\n",
            "               channels_G: 32                            \n",
            "          checkpoints_dir: /content/C-VTON/bpgm/checkpoints\n",
            "                 dataroot: /content/C-VTON/bpgm/data/viton\n",
            "                  dataset: viton                         \t[default: mpv]\n",
            "                  gpu_ids: [0]                           \n",
            "                 img_size: 256                           \n",
            "                     name: C-VTON-VITON                  \t[default: None]\n",
            "                   no_EMA: False                         \n",
            "                    no_bg: False                         \n",
            "                   no_seg: False                         \n",
            "         no_spectral_norm: False                         \n",
            "               num_epochs: 100                           \n",
            "           num_res_blocks: 6                             \n",
            "          param_free_norm: batch                         \n",
            "               patch_size: 64                            \n",
            "                    phase: test                          \t[default: train]\n",
            "              results_dir: /content/C-VTON/results       \n",
            "                     seed: 42                            \n",
            "              seg_edit_id: 256                           \n",
            "             segmentation: ['densepose']                 \t[default: ['body']]\n",
            "                 spade_ks: 3                             \n",
            "               train_size: 0.95                          \n",
            "          transform_cloth: True                          \t[default: False]\n",
            "                 val_size: 0.05                          \n",
            "               which_iter: best                          \t[default: latest]\n",
            "                    z_dim: 9                             \n",
            "----------------- End -------------------\n",
            "Created VitonDataset, size val: 429, size test: 416\n",
            "initialization method [normal]\n",
            "initialization method [normal]\n",
            "Created OASIS_Simple with 42060840 parameters\n",
            "Created VitonDataset, size val: 429, size test: 416\n",
            "/usr/local/lib/python3.10/dist-packages/torchvision/models/_utils.py:208: UserWarning: The parameter 'pretrained' is deprecated since 0.13 and may be removed in the future, please use 'weights' instead.\n",
            "  warnings.warn(\n",
            "/usr/local/lib/python3.10/dist-packages/torchvision/models/_utils.py:223: UserWarning: Arguments other than a weight enum or `None` for 'weights' are deprecated since 0.13 and may be removed in the future. The current behavior is equivalent to passing `weights=VGG16_Weights.IMAGENET1K_V1`. You can also use `weights=VGG16_Weights.DEFAULT` to get the most up-to-date weights.\n",
            "  warnings.warn(msg)\n",
            "/usr/local/lib/python3.10/dist-packages/torchvision/models/_utils.py:223: UserWarning: Arguments other than a weight enum or `None` for 'weights' are deprecated since 0.13 and may be removed in the future. The current behavior is equivalent to passing `weights=None`.\n",
            "  warnings.warn(msg)\n",
            "--- Now computing Inception activations for real set ---\n",
            "--- Finished FID stats for real set ---\n",
            "2023-05-15 16:56:36.027394 - LPIPS: 0.317 (+/- 0.049)\n",
            "/usr/local/lib/python3.10/dist-packages/scipy/linalg/_decomp_schur.py:285: RuntimeWarning: divide by zero encountered in cfloat_scalars\n",
            "  c = mu[0] / r\n",
            "/usr/local/lib/python3.10/dist-packages/scipy/linalg/_decomp_schur.py:285: RuntimeWarning: invalid value encountered in cfloat_scalars\n",
            "  c = mu[0] / r\n",
            "/usr/local/lib/python3.10/dist-packages/scipy/linalg/_decomp_schur.py:286: RuntimeWarning: divide by zero encountered in cfloat_scalars\n",
            "  s = T[m, m-1] / r\n",
            "/usr/local/lib/python3.10/dist-packages/scipy/linalg/_decomp_schur.py:286: RuntimeWarning: invalid value encountered in cfloat_scalars\n",
            "  s = T[m, m-1] / r\n",
            "fid calculation produces singular product; adding 1e-06 to diagonal of cov estimates\n",
            "2023-05-15 16:58:07.894008 - FID: 280.361\n",
            "initialization method [normal]\n",
            "initialization method [normal]\n",
            "Created OASIS_Simple with 42060840 parameters\n",
            "415 / 416\n"
          ]
        }
      ],
      "source": [
        "!sh test_viton.sh"
      ]
    }
  ],
  "metadata": {
    "accelerator": "GPU",
    "colab": {
      "provenance": [],
      "authorship_tag": "ABX9TyOaUf0+kQq51FOJ8cw+LYoc",
      "include_colab_link": true
    },
    "gpuClass": "standard",
    "kernelspec": {
      "display_name": "Python 3",
      "name": "python3"
    },
    "language_info": {
      "name": "python"
    }
  },
  "nbformat": 4,
  "nbformat_minor": 0
}